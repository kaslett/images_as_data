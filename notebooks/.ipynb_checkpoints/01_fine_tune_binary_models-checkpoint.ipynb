{
 "cells": [
  {
   "cell_type": "markdown",
   "metadata": {},
   "source": [
    "# Fine Tuning Binary Classifiers\n",
    "### Examples: Protest, John Legend, and Emotions\n",
    "\n",
    "Andreu Casas and Nora Webb Williams | August, 2018\n",
    "\n",
    "### Purpose:\n",
    "\n",
    "To train binary visual classifiers predicting images with protesting crowds, with John Legend, and triggering sadness, enthusiasm, anger, disgust, and fear. A pre-trained Convolutinal Neural Net predicting the 1,000 ImageNet classes (ResNet18) is adpated to predict binary outcomes by replacing the last 1,000-weights fully-connected layer with a layer that has only 2 weights, then fine-tuning the parameters on new training data. The resulting models are saved in a './models/' directory. "
   ]
  },
  {
   "cell_type": "markdown",
   "metadata": {},
   "source": [
    "### Paths & Constants"
   ]
  },
  {
   "cell_type": "code",
   "execution_count": 6,
   "metadata": {
    "collapsed": true
   },
   "outputs": [],
   "source": [
    "# - in this data directory there are 7 folders, one with the train-test images of each classifier:\n",
    "#     ['protest', 'legend', 'enthusiasm', 'anger', 'fear', 'sadness', 'disgust'].\n",
    "#     Each of these directories has a 'train' and 'test' subdirectory, and each of these two\n",
    "#     subdirectories has a 'negative' and 'positive' subsubdirectories with the True Negative and \n",
    "#     True Positive images to train each classifier.\n",
    "\n",
    "\"\"\"\n",
    "data\n",
    "  |\n",
    "  |\n",
    "   - protest\n",
    "  |        |\n",
    "  |        |\n",
    "  |         - train\n",
    "  |        |      |\n",
    "  |        |       - negative\n",
    "  |        |      |\n",
    "  |        |       - positive\n",
    "  |         - test\n",
    "  |               |\n",
    "  |                - negative\n",
    "  |               |\n",
    "  |                - positive                  \n",
    "  |\n",
    "   - legend \n",
    "   (... etc.)\n",
    "\"\"\"\n",
    " \n",
    "# NOTE: WILL BE DIFFERENT ON PEOPLE's CLONED EC2 INSTANCE\n",
    "\n",
    "# For instructors' demo\n",
    "DATA_PATH = '/home/ubuntu/VPG/PROJECTS/cambridge_elements/data/'\n",
    "\n",
    "# For cloned EC2 instance\n",
    "#DATA_PATH = '/home/ubuntu/cambridge_elements/data/'\n",
    "\n",
    "# - the path to a script with several FUNCTIONS we use in this script\n",
    "\n",
    "# For instructors' demo\n",
    "FUNCTIONS_PATH = '/home/ubuntu/VPG/PROJECTS/cambridge_elements/notebooks/'\n",
    "\n",
    "# For cloned EC2 instance\n",
    "#FUNCTIONS_PATH = '/home/ubuntu/cambridge_elements/notebooks/'"
   ]
  },
  {
   "cell_type": "markdown",
   "metadata": {},
   "source": [
    "### Choices about which models to run and hyperparameters"
   ]
  },
  {
   "cell_type": "code",
   "execution_count": 7,
   "metadata": {
    "collapsed": true
   },
   "outputs": [],
   "source": [
    "# RESEARCHER CHOICES\n",
    "# Which sets of data do you want to train a model for? \n",
    "# If left empty, code with train for all directories in the DATA_PATH directory,\n",
    "# Note that leaving this empty will cause some problems, since we have both binary and multiclass data in the directory.\n",
    "model_list = ['protest'] #Binary APSA 2018 options are 'protest', 'legend', 'enthusiasm', 'anger', 'fear', 'sadness', or 'disgust'\n",
    "\n",
    "# Fine-tuning specification\n",
    "num_classes = 2 # Enter the number of classes you are training for; will always be 2 for binary model\n",
    "set_report_num = 1 # Enter how often you wish the program to report back as it iterates\n",
    "\n",
    "# Hyperparameters\n",
    "hyperparam_combo_num = 1 # Use this to keep track of which version of hyperparameters you are using \n",
    "\n",
    "set_learn_rate = 0.0001 # Enter the desired learning rate\n",
    "set_momentum = .9 # Enter the desired momentum\n",
    "set_step_size = 7 # Enter the desired step size\n",
    "set_gamma = 0.1 # Enter the desired gamma\n",
    "set_iterations = 5 # Enter the desired number of iterations\n",
    "set_batch_size = 1 # Enter the desired batch size\n"
   ]
  },
  {
   "cell_type": "markdown",
   "metadata": {},
   "source": [
    "### Modules"
   ]
  },
  {
   "cell_type": "code",
   "execution_count": 8,
   "metadata": {
    "collapsed": true
   },
   "outputs": [],
   "source": [
    "# Import all the needed python packages\n",
    "from __future__ import print_function, division\n",
    "import torch\n",
    "import torch.nn as nn\n",
    "import torch.optim as optim\n",
    "from torch.optim import lr_scheduler\n",
    "import torchvision\n",
    "from torchvision import datasets, models\n",
    "import matplotlib.pyplot as plt\n",
    "import numpy as np\n",
    "plt.ion()   # interactive mode\n",
    "import os\n",
    "import pickle\n",
    "import json\n",
    "import pandas as pd\n",
    "from PIL import Image"
   ]
  },
  {
   "cell_type": "markdown",
   "metadata": {},
   "source": [
    "### Load Functions"
   ]
  },
  {
   "cell_type": "code",
   "execution_count": 9,
   "metadata": {
    "collapsed": true
   },
   "outputs": [],
   "source": [
    "# These are helper functions written by our team (mostly Andreu)\n",
    "os.chdir(FUNCTIONS_PATH)\n",
    "exec(open('00_functions.py', \"rb\").read())"
   ]
  },
  {
   "cell_type": "markdown",
   "metadata": {},
   "source": [
    "### --MAIN-- Model Training"
   ]
  },
  {
   "cell_type": "code",
   "execution_count": 10,
   "metadata": {
    "collapsed": true
   },
   "outputs": [],
   "source": [
    "# MODEL TRAINING\n",
    "# - a list of models to train, if not set by researcher above\n",
    "if len(model_list) == 0:\n",
    "\tmodel_list = os.listdir(DATA_PATH)\n",
    "\tmodel_list = [m for m in model_list if m not in ['.DS_Store', 'MODELS', 'ACCURACY']]\n",
    "\tmodel_list.sort()"
   ]
  },
  {
   "cell_type": "code",
   "execution_count": 11,
   "metadata": {
    "collapsed": false
   },
   "outputs": [
    {
     "name": "stdout",
     "output_type": "stream",
     "text": [
      "['protest']\n"
     ]
    }
   ],
   "source": [
    "# Report which models are being trained\n",
    "print(model_list)"
   ]
  },
  {
   "cell_type": "code",
   "execution_count": 12,
   "metadata": {
    "collapsed": false
   },
   "outputs": [],
   "source": [
    "# Specifying some objects that will be the same for any model\n",
    "# - preprocessing to be applied to the images. See '00_functions.py' script\n",
    "#   for more details on the 'data_transform()' function,\n",
    "#   which primarily standardized image size\n",
    "preprocess = data_tranform()\n",
    "# - checking if the machine has GPUs\n",
    "use_gpu = torch.cuda.is_available()"
   ]
  },
  {
   "cell_type": "code",
   "execution_count": 13,
   "metadata": {
    "collapsed": false,
    "scrolled": false
   },
   "outputs": [],
   "source": [
    "# - how often (every how many iterations) should the loop print/report accuracy\n",
    "report_num = set_report_num\n",
    "\n",
    "# Iterate through the datasets and build binary image classifiers.\n",
    "counter_models = 0\n",
    "total_models = len(model_list)\n",
    "model_str = model_list[0]"
   ]
  },
  {
   "cell_type": "code",
   "execution_count": 13,
   "metadata": {
    "collapsed": true
   },
   "outputs": [],
   "source": [
    "#================================================================\n",
    "# INITIALIZE MODEL\n",
    "#================================================================\n",
    "# - load a pretrained model from TorchVision: ResNet18\n",
    "model = models.resnet18(pretrained=True)\n",
    "\n",
    "# - check number of features in last fully connected layer\n",
    "num_ftrs = model.fc.in_features \n",
    "\n",
    "# - change the output layer from 1,000 classes to a binary outcome\n",
    "model.fc = nn.Linear(num_ftrs, num_classes) # For ResNet18, last step is 512 -> 2\n"
   ]
  },
  {
   "cell_type": "code",
   "execution_count": 14,
   "metadata": {
    "collapsed": true
   },
   "outputs": [],
   "source": [
    "#================================================================\n",
    "# MODEL HYPER-PARAMETERS\n",
    "#================================================================\n",
    "# - specify some model hyperparameters\n",
    "criterion = nn.CrossEntropyLoss() # loss function\n",
    "optimizer = optim.SGD(model.parameters(), \n",
    "                         lr=set_learn_rate, \n",
    "                         momentum=set_momentum) # how to perform optimization\n",
    "scheduler = lr_scheduler.StepLR(optimizer, \n",
    "                                       step_size=set_step_size, \n",
    "                                       gamma=set_gamma) # how to update learning rate    \n",
    "# - number of iterations\n",
    "iter_num = set_iterations"
   ]
  },
  {
   "cell_type": "code",
   "execution_count": 15,
   "metadata": {
    "collapsed": false
   },
   "outputs": [
    {
     "name": "stdout",
     "output_type": "stream",
     "text": [
      "Training Model 1 of 1: PROTEST\n",
      "=================================\n",
      "\n"
     ]
    }
   ],
   "source": [
    "#================================================================\n",
    "# PRE-PROCESSING\n",
    "#================================================================\n",
    "# - update counter and report progress\n",
    "counter_models += 1\n",
    "print('Training Model %s of %s: %s'%(counter_models, total_models, model_str.upper()))\n",
    "print('=================================\\n')\n",
    "\n",
    "# - specify the path to data for this particular classifier\n",
    "model_path = '%s/%s/'%(DATA_PATH, model_str)\n",
    "# - specifying where the train and test images are\n",
    "image_datasets = {x: datasets.ImageFolder(os.path.join(model_path, x),\n",
    "                                          preprocess[x])\n",
    "                  for x in ['train', 'test']}\n",
    "\n",
    "# - creating an object to easily load the train and test images\n",
    "dataloaders = {x: torch.utils.data.DataLoader(image_datasets[x], batch_size=4,\n",
    "                                             shuffle=True)\n",
    "              for x in ['train', 'test']}\n",
    "\n",
    "# - getting some extra information such as the size of the dataset and the\n",
    "#       class number\n",
    "dataset_sizes = {x: len(image_datasets[x]) for x in ['train', 'test']}\n",
    "class_names = image_datasets['train'].classes\n",
    "\n",
    "# - specify whether to use gpu \n",
    "if use_gpu:\n",
    "    model = model.cuda()"
   ]
  },
  {
   "cell_type": "code",
   "execution_count": 32,
   "metadata": {
    "collapsed": false
   },
   "outputs": [
    {
     "name": "stdout",
     "output_type": "stream",
     "text": [
      "Iteration 0/4\n",
      "----------\n",
      "train Loss:0.1164 Acc:0.7824 Precision:0.7857 Recall:0.7765\n",
      "\n",
      "test Loss:0.0686 Acc:0.9000 Precision:0.8750 Recall:0.9333\n",
      "\n",
      "Iteration 1/4\n",
      "----------\n",
      "train Loss:0.0896 Acc:0.8588 Precision:0.8211 Recall:0.9176\n",
      "\n",
      "test Loss:0.0699 Acc:0.9000 Precision:0.8750 Recall:0.9333\n",
      "\n",
      "Iteration 2/4\n",
      "----------\n",
      "train Loss:0.0805 Acc:0.8765 Precision:0.9000 Recall:0.8471\n",
      "\n",
      "test Loss:0.0659 Acc:0.9000 Precision:0.8750 Recall:0.9333\n",
      "\n",
      "Iteration 3/4\n",
      "----------\n",
      "train Loss:0.0875 Acc:0.8706 Precision:0.8539 Recall:0.8941\n",
      "\n",
      "test Loss:0.0577 Acc:0.9000 Precision:0.9286 Recall:0.8667\n",
      "\n",
      "Iteration 4/4\n",
      "----------\n",
      "train Loss:0.0722 Acc:0.9118 Precision:0.9375 Recall:0.8824\n",
      "\n",
      "test Loss:0.0525 Acc:0.9000 Precision:0.9286 Recall:0.8667\n",
      "\n",
      "Training complete in 0m 34s\n",
      "Best val Acc: 0.900000\n",
      "\n",
      "\n"
     ]
    }
   ],
   "source": [
    "#================================================================\n",
    "# MODEL ESTIMATION\n",
    "#================================================================\n",
    "# - check the size of the train and test sets\n",
    "dataset_sizes = {x: len(image_datasets[x]) for x in ['train', 'test']}\n",
    "\n",
    "# - initialize a time object so we can check how long the training \n",
    "#   takes\n",
    "since = time.time()\n",
    "\n",
    "# - initialize a matrix of weights (model parameters) and accuracy\n",
    "#   object where we'll save the weights and accuracy info for the\n",
    "#   most accurate weights-configuration\n",
    "best_model_wts = model.state_dict()\n",
    "best_acc = 0.0\n",
    "best_precision = 0.0\n",
    "best_recall = 0.0\n",
    "loss_progress = []  \n",
    "acc_progress = []\n",
    "\n",
    "# - \n",
    "for iteration in range(iter_num):\n",
    "    if iteration % report_num == 0:\n",
    "        print('Iteration {}/{}'.format(iteration, iter_num - 1))\n",
    "        print('-' * 10)\n",
    "\n",
    "    # - each iteration has a training and testing phase\n",
    "    for phase in ['train', 'test']:\n",
    "        if phase == 'train':\n",
    "            scheduler.step() # update model weights\n",
    "            model.train(True)  # set model to training mode\n",
    "        else:\n",
    "            model.train(False)  # set model to evaluate mode\n",
    "\n",
    "        running_loss = 0.0\n",
    "        running_corrects = 0\n",
    "        running_preds = []\n",
    "        running_labels = []\n",
    "\n",
    "        # - iterate over data: in training iteration we\n",
    "        #   iterate through groups of 4 train and 4 test\n",
    "        #   images.\n",
    "        for data in dataloaders[phase]:\n",
    "            # - get the inputs\n",
    "            inputs, labels = data\n",
    "\n",
    "            # - transform data and labels into PyTorch variables\n",
    "            if use_gpu:\n",
    "                inputs = Variable(inputs.cuda())\n",
    "                labels = Variable(labels.cuda())\n",
    "            else:\n",
    "                inputs, labels = Variable(inputs), Variable(labels)\n",
    "\n",
    "            # - gradients back to 0 (re-calculated in each iteration)\n",
    "            optimizer.zero_grad()\n",
    "\n",
    "            # - forward propagation: applying dot products\n",
    "            outputs = model(inputs)\n",
    "            _, preds = torch.max(outputs.data, 1)\n",
    "            preds_int_list = list(preds)\n",
    "            labels_int_list = list(labels.data)                \n",
    "            loss = criterion(outputs, labels)\n",
    "\n",
    "            # (only in training phase)\n",
    "            # - backward propagation: calculate loss and gradients\n",
    "            if phase == 'train':\n",
    "                loss.backward()\n",
    "                optimizer.step()\n",
    "\n",
    "            # - calculate accuracy statistics\n",
    "            running_loss += loss.data[0]\n",
    "            running_corrects += torch.sum(preds == labels.data)\n",
    "            running_preds = running_preds + preds_int_list\n",
    "            running_labels = running_labels + labels_int_list\n",
    "\n",
    "        iter_loss = running_loss / dataset_sizes[phase]\n",
    "        iter_acc = running_corrects / dataset_sizes[phase]\n",
    "        if sum(running_preds) > 0:\n",
    "            iter_recall = sum([1 for i in range(0, len(running_preds)) if \n",
    "                                  running_preds[i] == 1 and \n",
    "                                  running_labels[i] == 1]) / float(sum(running_labels)) \n",
    "            iter_precision = sum([1 for i in range(0, len(running_preds)) if \n",
    "                                     running_preds[i] == 1 and \n",
    "                                     running_labels[i] == 1]) / float(sum(running_preds))\n",
    "        else:\n",
    "            iter_recall = 0\n",
    "            iter_precision = 0\n",
    "\n",
    "        # - report training progress once every N (e.g. 10) iterations\n",
    "        if iteration % report_num == 0:\n",
    "            print('{} Loss:{:.4f} Acc:{:.4f} Precision:{:.4f} Recall:{:.4f}\\n'.format(\n",
    "                phase, iter_loss, iter_acc, iter_precision, iter_recall))\n",
    "\n",
    "        # - if this iteration's results are the best so far,\n",
    "        #   saving a copy of this best model\n",
    "        if phase == 'test' and iter_acc > best_acc:\n",
    "            best_acc = iter_acc\n",
    "            best_precision = iter_precision\n",
    "            best_recall = iter_recall\n",
    "            best_model_wts = model.state_dict()                \n",
    "        if phase == 'test':\n",
    "            # - keep track of the evolution of the loss and accuracy\n",
    "            loss_progress.append(iter_loss)\n",
    "            acc_progress.append(iter_acc)\n",
    "\n",
    "    # - if the accuracy is already pretty high, move to next\n",
    "    #   classifier\n",
    "    if best_acc > 0.95 and best_precision > 0.95 and best_recall > 0.95:\n",
    "        print('... reached good model accuracy, moving to next model.')\n",
    "        break\n",
    "\n",
    "# - check how long it took to estimate the model and report\n",
    "#   time and results for the most accurate model weights\n",
    "time_elapsed = time.time() - since\n",
    "print('Training complete in {:.0f}m {:.0f}s'.format(\n",
    "    time_elapsed // 60, time_elapsed % 60))\n",
    "print('Best val Acc: {:4f}\\n\\n'.format(best_acc))    \n",
    "\n",
    "# - use the best model to predict labels for the whole\n",
    "#   test set and calculate precision and recall of the\n",
    "#   binary classifier   \n",
    "\n",
    "\n",
    "# - save the best model weights and accuracy\n",
    "model.load_state_dict(best_model_wts)\n",
    "torch.save(model, '%s/MODELS/%s.pth'%(DATA_PATH, model_str + '_' + str(hyperparam_combo_num)))\n",
    "accuracy_summary = {'acc':best_acc,\n",
    "                      'precision':best_precision,\n",
    "                      'recall':best_recall,\n",
    "                      'lr':set_learn_rate,\n",
    "                      'momentum':set_momentum,\n",
    "                      'step_size':set_step_size,\n",
    "                      'gamma':set_gamma,\n",
    "                      'max_iters':set_iterations,\n",
    "                      'batch_size':set_batch_size, \n",
    "                      'acc_progress':acc_progress,\n",
    "                      'loss_progress':loss_progress\n",
    "                      }\n",
    "#json.dump(accuracy_summary, open('%s/ACCURACY/%s.json'%(DATA_PATH, model_str + '_' + str(hyperparam_combo_num)), 'w'))"
   ]
  },
  {
   "cell_type": "code",
   "execution_count": 33,
   "metadata": {
    "collapsed": false
   },
   "outputs": [
    {
     "data": {
      "image/png": "[encoded data removed]",
      "text/plain": [
       "<matplotlib.figure.Figure at 0x7f37370ead68>"
      ]
     },
     "metadata": {},
     "output_type": "display_data"
    }
   ],
   "source": [
    "plt.plot(loss_progress)\n",
    "plt.ylabel('loss')\n",
    "plt.show()"
   ]
  },
  {
   "cell_type": "markdown",
   "metadata": {},
   "source": [
    "### Take a look at some model predictions"
   ]
  },
  {
   "cell_type": "code",
   "execution_count": 36,
   "metadata": {
    "collapsed": false
   },
   "outputs": [
    {
     "data": {
      "image/png": "[encoded data removed]",
      "text/plain": [
       "<matplotlib.figure.Figure at 0x7f3737026978>"
      ]
     },
     "metadata": {},
     "output_type": "display_data"
    }
   ],
   "source": [
    "visualize_model(model = model,\n",
    "                class_names = class_names,\n",
    "                num_images = 6,\n",
    "                dataloaders = dataloaders,\n",
    "                use_gpu = use_gpu)"
   ]
  },
  {
   "cell_type": "markdown",
   "metadata": {
    "collapsed": true
   },
   "source": [
    "### Saving, loading, and using the trained model later"
   ]
  },
  {
   "cell_type": "code",
   "execution_count": 37,
   "metadata": {
    "collapsed": false
   },
   "outputs": [],
   "source": [
    "# - PyTorch comes with a function to easily save models\n",
    "torch.save(model, '%s/MODELS/%s.pth'%(DATA_PATH, model_str + '_' + str(hyperparam_combo_num)))"
   ]
  },
  {
   "cell_type": "code",
   "execution_count": 2,
   "metadata": {
    "collapsed": false
   },
   "outputs": [
    {
     "ename": "NameError",
     "evalue": "name 'torch' is not defined",
     "output_type": "error",
     "traceback": [
      "\u001b[0;31m---------------------------------------------------------------------------\u001b[0m",
      "\u001b[0;31mNameError\u001b[0m                                 Traceback (most recent call last)",
      "\u001b[0;32m<ipython-input-2-d289338c6350>\u001b[0m in \u001b[0;36m<module>\u001b[0;34m()\u001b[0m\n\u001b[1;32m      1\u001b[0m \u001b[0;31m# - now reload the model again\u001b[0m\u001b[0;34m\u001b[0m\u001b[0;34m\u001b[0m\u001b[0m\n\u001b[0;32m----> 2\u001b[0;31m model_new = torch.load(\n\u001b[0m\u001b[1;32m      3\u001b[0m     '%s/MODELS/%s.pth'%(DATA_PATH, model_str + '_' + str(hyperparam_combo_num)))\n",
      "\u001b[0;31mNameError\u001b[0m: name 'torch' is not defined"
     ]
    }
   ],
   "source": [
    "# - now reload the model again\n",
    "model_new = torch.load(\n",
    "    '%s/MODELS/%s.pth'%(DATA_PATH, model_str + '_' + str(hyperparam_combo_num)))"
   ]
  },
  {
   "cell_type": "code",
   "execution_count": 3,
   "metadata": {
    "collapsed": false
   },
   "outputs": [
    {
     "ename": "NameError",
     "evalue": "name 'DATA_PATH' is not defined",
     "output_type": "error",
     "traceback": [
      "\u001b[0;31m---------------------------------------------------------------------------\u001b[0m",
      "\u001b[0;31mNameError\u001b[0m                                 Traceback (most recent call last)",
      "\u001b[0;32m<ipython-input-3-b8304e586a66>\u001b[0m in \u001b[0;36m<module>\u001b[0;34m()\u001b[0m\n\u001b[1;32m      1\u001b[0m \u001b[0;31m# - load some example images to test how to use, on a new set of images, a model you previously trained\u001b[0m\u001b[0;34m\u001b[0m\u001b[0;34m\u001b[0m\u001b[0m\n\u001b[0;32m----> 2\u001b[0;31m \u001b[0mpos_path\u001b[0m \u001b[0;34m=\u001b[0m \u001b[0;34m'%s%s/test/positive/'\u001b[0m\u001b[0;34m%\u001b[0m\u001b[0;34m(\u001b[0m\u001b[0mDATA_PATH\u001b[0m\u001b[0;34m,\u001b[0m \u001b[0mmodel_str\u001b[0m\u001b[0;34m)\u001b[0m\u001b[0;34m\u001b[0m\u001b[0m\n\u001b[0m\u001b[1;32m      3\u001b[0m \u001b[0mneg_path\u001b[0m \u001b[0;34m=\u001b[0m \u001b[0;34m'%s%s/test/negative/'\u001b[0m\u001b[0;34m%\u001b[0m\u001b[0;34m(\u001b[0m\u001b[0mDATA_PATH\u001b[0m\u001b[0;34m,\u001b[0m \u001b[0mmodel_str\u001b[0m\u001b[0;34m)\u001b[0m\u001b[0;34m\u001b[0m\u001b[0m\n\u001b[1;32m      4\u001b[0m \u001b[0mpos_list\u001b[0m \u001b[0;34m=\u001b[0m \u001b[0;34m[\u001b[0m\u001b[0;34m'%s%s'\u001b[0m\u001b[0;34m%\u001b[0m\u001b[0;34m(\u001b[0m\u001b[0mpos_path\u001b[0m\u001b[0;34m,\u001b[0m \u001b[0mx\u001b[0m\u001b[0;34m)\u001b[0m \u001b[0;32mfor\u001b[0m \u001b[0mx\u001b[0m \u001b[0;32min\u001b[0m \u001b[0mos\u001b[0m\u001b[0;34m.\u001b[0m\u001b[0mlistdir\u001b[0m\u001b[0;34m(\u001b[0m\u001b[0mpos_path\u001b[0m\u001b[0;34m)\u001b[0m\u001b[0;34m[\u001b[0m\u001b[0;34m:\u001b[0m\u001b[0;36m5\u001b[0m\u001b[0;34m]\u001b[0m\u001b[0;34m]\u001b[0m\u001b[0;34m\u001b[0m\u001b[0m\n\u001b[1;32m      5\u001b[0m \u001b[0mneg_list\u001b[0m \u001b[0;34m=\u001b[0m \u001b[0;34m[\u001b[0m\u001b[0;34m'%s%s'\u001b[0m\u001b[0;34m%\u001b[0m\u001b[0;34m(\u001b[0m\u001b[0mneg_path\u001b[0m\u001b[0;34m,\u001b[0m \u001b[0mx\u001b[0m\u001b[0;34m)\u001b[0m \u001b[0;32mfor\u001b[0m \u001b[0mx\u001b[0m \u001b[0;32min\u001b[0m \u001b[0mos\u001b[0m\u001b[0;34m.\u001b[0m\u001b[0mlistdir\u001b[0m\u001b[0;34m(\u001b[0m\u001b[0mneg_path\u001b[0m\u001b[0;34m)\u001b[0m\u001b[0;34m[\u001b[0m\u001b[0;34m:\u001b[0m\u001b[0;36m5\u001b[0m\u001b[0;34m]\u001b[0m\u001b[0;34m]\u001b[0m\u001b[0;34m\u001b[0m\u001b[0m\n",
      "\u001b[0;31mNameError\u001b[0m: name 'DATA_PATH' is not defined"
     ]
    }
   ],
   "source": [
    "# - load some example images to test how to use, on a new set of images, a model you previously trained\n",
    "pos_path = '%s%s/test/positive/'%(DATA_PATH, model_str)\n",
    "neg_path = '%s%s/test/negative/'%(DATA_PATH, model_str)\n",
    "pos_list = ['%s%s'%(pos_path, x) for x in os.listdir(pos_path)[:5]]\n",
    "neg_list = ['%s%s'%(neg_path, x) for x in os.listdir(neg_path)[:5]]\n",
    "test_img_path_list = pos_list + neg_list\n",
    "new_dataset = []\n",
    "for img_file in test_img_path_list:\n",
    "    img = Image.open(img_file).convert('RGB')\n",
    "    new_dataset.append(img)"
   ]
  },
  {
   "cell_type": "code",
   "execution_count": 4,
   "metadata": {
    "collapsed": false
   },
   "outputs": [
    {
     "ename": "NameError",
     "evalue": "name 'data_tranform' is not defined",
     "output_type": "error",
     "traceback": [
      "\u001b[0;31m---------------------------------------------------------------------------\u001b[0m",
      "\u001b[0;31mNameError\u001b[0m                                 Traceback (most recent call last)",
      "\u001b[0;32m<ipython-input-4-e2b1b51dec4c>\u001b[0m in \u001b[0;36m<module>\u001b[0;34m()\u001b[0m\n\u001b[1;32m      1\u001b[0m \u001b[0;31m# - specifying the transformation-preprocessing to apply to the images\u001b[0m\u001b[0;34m\u001b[0m\u001b[0;34m\u001b[0m\u001b[0m\n\u001b[0;32m----> 2\u001b[0;31m \u001b[0mpreprocess\u001b[0m \u001b[0;34m=\u001b[0m \u001b[0mdata_tranform\u001b[0m\u001b[0;34m(\u001b[0m\u001b[0mtrain\u001b[0m \u001b[0;34m=\u001b[0m \u001b[0;32mFalse\u001b[0m\u001b[0;34m)\u001b[0m\u001b[0;34m\u001b[0m\u001b[0m\n\u001b[0m\u001b[1;32m      3\u001b[0m \u001b[0;34m\u001b[0m\u001b[0m\n\u001b[1;32m      4\u001b[0m \u001b[0;31m# - checking if the machine has GPUs and enabling GPU computing if so\u001b[0m\u001b[0;34m\u001b[0m\u001b[0;34m\u001b[0m\u001b[0m\n\u001b[1;32m      5\u001b[0m \u001b[0muse_gpu\u001b[0m \u001b[0;34m=\u001b[0m \u001b[0mtorch\u001b[0m\u001b[0;34m.\u001b[0m\u001b[0mcuda\u001b[0m\u001b[0;34m.\u001b[0m\u001b[0mis_available\u001b[0m\u001b[0;34m(\u001b[0m\u001b[0;34m)\u001b[0m\u001b[0;34m\u001b[0m\u001b[0m\n",
      "\u001b[0;31mNameError\u001b[0m: name 'data_tranform' is not defined"
     ]
    }
   ],
   "source": [
    "# - specifying the transformation-preprocessing to apply to the images\n",
    "preprocess = data_tranform(train = False)\n",
    "\n",
    "# - checking if the machine has GPUs and enabling GPU computing if so\n",
    "use_gpu = torch.cuda.is_available()"
   ]
  },
  {
   "cell_type": "code",
   "execution_count": 5,
   "metadata": {
    "collapsed": false
   },
   "outputs": [
    {
     "ename": "NameError",
     "evalue": "name 'pd' is not defined",
     "output_type": "error",
     "traceback": [
      "\u001b[0;31m---------------------------------------------------------------------------\u001b[0m",
      "\u001b[0;31mNameError\u001b[0m                                 Traceback (most recent call last)",
      "\u001b[0;32m<ipython-input-5-cd84d118e89a>\u001b[0m in \u001b[0;36m<module>\u001b[0;34m()\u001b[0m\n\u001b[1;32m      1\u001b[0m \u001b[0;31m# - use the model to perform predictions on this \"new\" set of images\u001b[0m\u001b[0;34m\u001b[0m\u001b[0;34m\u001b[0m\u001b[0m\n\u001b[1;32m      2\u001b[0m \u001b[0;31m# ... initialize output dataset and a counter\u001b[0m\u001b[0;34m\u001b[0m\u001b[0;34m\u001b[0m\u001b[0m\n\u001b[0;32m----> 3\u001b[0;31m \u001b[0moutput_data\u001b[0m \u001b[0;34m=\u001b[0m \u001b[0mpd\u001b[0m\u001b[0;34m.\u001b[0m\u001b[0mDataFrame\u001b[0m\u001b[0;34m(\u001b[0m\u001b[0;34m)\u001b[0m\u001b[0;34m\u001b[0m\u001b[0m\n\u001b[0m\u001b[1;32m      4\u001b[0m \u001b[0mcounter\u001b[0m \u001b[0;34m=\u001b[0m \u001b[0;36m0\u001b[0m\u001b[0;34m\u001b[0m\u001b[0m\n\u001b[1;32m      5\u001b[0m \u001b[0mtotal\u001b[0m \u001b[0;34m=\u001b[0m \u001b[0mlen\u001b[0m\u001b[0;34m(\u001b[0m\u001b[0mnew_dataset\u001b[0m\u001b[0;34m)\u001b[0m\u001b[0;34m\u001b[0m\u001b[0m\n",
      "\u001b[0;31mNameError\u001b[0m: name 'pd' is not defined"
     ]
    }
   ],
   "source": [
    "# - use the model to perform predictions on this \"new\" set of images\n",
    "# ... initialize output dataset and a counter\n",
    "output_data = pd.DataFrame()\n",
    "counter = 0\n",
    "total = len(new_dataset)\n",
    "# ... iterate through the new images to predict\n",
    "for z in range(0, len(new_dataset)):\n",
    "    counter += 1\n",
    "    print('image: %s/%s'%(counter, total))\n",
    "    img_filename = test_img_path_list[z]\n",
    "    img = new_dataset[z]\n",
    "    # ... initialize output dict object for this iteration/img\n",
    "    new_entry = {}\n",
    "    # ... transform-preprocess this imags\n",
    "    var = Variable(preprocess(img).unsqueeze(0))\n",
    "    # ... make the model prediction\n",
    "    pred = model_new(var.cuda())\n",
    "    # ... pull the predicted class probabilities and create a dataframe with them\n",
    "    probs, indeces = nn.Softmax(1)(pred).data.sort()\n",
    "    probs = [round(x, 3) for x in list(probs[0])]\n",
    "    indeces = list(indeces[0][:2])\n",
    "    labels = [['negative', 'positive'][i] for i in indeces]\n",
    "    pred_df = pd.DataFrame({'label':labels,\n",
    "                            'probs':probs})\n",
    "    pred_df_t = pred_df.transpose()\n",
    "    final_pred_df = pd.DataFrame(pred_df_t.iloc[1]).transpose()    \n",
    "    final_pred_df.columns = labels\n",
    "    # ... adding some extra information about the image and prediction\n",
    "    final_pred_df['img'] = '/'.join(img_filename.split('/')[-2:])\n",
    "    final_pred_df['max_class'] = ['negative', 'positive'][indeces[1]]\n",
    "    final_pred_df['max_pr'] = max(probs)\n",
    "    output_data = pd.concat([output_data, final_pred_df])\n",
    "output_data = output_data.reset_index(drop=True)"
   ]
  },
  {
   "cell_type": "code",
   "execution_count": 64,
   "metadata": {
    "collapsed": false
   },
   "outputs": [
    {
     "data": {
      "text/html": [
       "<div>\n",
       "<style scoped>\n",
       "    .dataframe tbody tr th:only-of-type {\n",
       "        vertical-align: middle;\n",
       "    }\n",
       "\n",
       "    .dataframe tbody tr th {\n",
       "        vertical-align: top;\n",
       "    }\n",
       "\n",
       "    .dataframe thead th {\n",
       "        text-align: right;\n",
       "    }\n",
       "</style>\n",
       "<table border=\"1\" class=\"dataframe\">\n",
       "  <thead>\n",
       "    <tr style=\"text-align: right;\">\n",
       "      <th></th>\n",
       "      <th>img</th>\n",
       "      <th>max_class</th>\n",
       "      <th>max_pr</th>\n",
       "      <th>negative</th>\n",
       "      <th>positive</th>\n",
       "    </tr>\n",
       "  </thead>\n",
       "  <tbody>\n",
       "    <tr>\n",
       "      <th>0</th>\n",
       "      <td>positive/52723.jpg</td>\n",
       "      <td>positive</td>\n",
       "      <td>0.962</td>\n",
       "      <td>0.038</td>\n",
       "      <td>0.962</td>\n",
       "    </tr>\n",
       "    <tr>\n",
       "      <th>1</th>\n",
       "      <td>positive/45021.jpg</td>\n",
       "      <td>positive</td>\n",
       "      <td>0.663</td>\n",
       "      <td>0.337</td>\n",
       "      <td>0.663</td>\n",
       "    </tr>\n",
       "    <tr>\n",
       "      <th>2</th>\n",
       "      <td>positive/37456.jpg</td>\n",
       "      <td>positive</td>\n",
       "      <td>0.991</td>\n",
       "      <td>0.009</td>\n",
       "      <td>0.991</td>\n",
       "    </tr>\n",
       "    <tr>\n",
       "      <th>3</th>\n",
       "      <td>positive/50988.jpg</td>\n",
       "      <td>positive</td>\n",
       "      <td>0.943</td>\n",
       "      <td>0.057</td>\n",
       "      <td>0.943</td>\n",
       "    </tr>\n",
       "    <tr>\n",
       "      <th>4</th>\n",
       "      <td>positive/42272.jpg</td>\n",
       "      <td>positive</td>\n",
       "      <td>0.668</td>\n",
       "      <td>0.332</td>\n",
       "      <td>0.668</td>\n",
       "    </tr>\n",
       "    <tr>\n",
       "      <th>5</th>\n",
       "      <td>negative/28559.jpg</td>\n",
       "      <td>negative</td>\n",
       "      <td>0.920</td>\n",
       "      <td>0.92</td>\n",
       "      <td>0.08</td>\n",
       "    </tr>\n",
       "    <tr>\n",
       "      <th>6</th>\n",
       "      <td>negative/4259.jpg</td>\n",
       "      <td>negative</td>\n",
       "      <td>0.966</td>\n",
       "      <td>0.966</td>\n",
       "      <td>0.034</td>\n",
       "    </tr>\n",
       "    <tr>\n",
       "      <th>7</th>\n",
       "      <td>negative/7.jpg</td>\n",
       "      <td>negative</td>\n",
       "      <td>0.874</td>\n",
       "      <td>0.874</td>\n",
       "      <td>0.126</td>\n",
       "    </tr>\n",
       "    <tr>\n",
       "      <th>8</th>\n",
       "      <td>negative/7896.jpg</td>\n",
       "      <td>negative</td>\n",
       "      <td>0.984</td>\n",
       "      <td>0.984</td>\n",
       "      <td>0.016</td>\n",
       "    </tr>\n",
       "    <tr>\n",
       "      <th>9</th>\n",
       "      <td>negative/3019.jpg</td>\n",
       "      <td>negative</td>\n",
       "      <td>0.930</td>\n",
       "      <td>0.93</td>\n",
       "      <td>0.07</td>\n",
       "    </tr>\n",
       "  </tbody>\n",
       "</table>\n",
       "</div>"
      ],
      "text/plain": [
       "                  img max_class  max_pr negative positive\n",
       "0  positive/52723.jpg  positive   0.962    0.038    0.962\n",
       "1  positive/45021.jpg  positive   0.663    0.337    0.663\n",
       "2  positive/37456.jpg  positive   0.991    0.009    0.991\n",
       "3  positive/50988.jpg  positive   0.943    0.057    0.943\n",
       "4  positive/42272.jpg  positive   0.668    0.332    0.668\n",
       "5  negative/28559.jpg  negative   0.920     0.92     0.08\n",
       "6   negative/4259.jpg  negative   0.966    0.966    0.034\n",
       "7      negative/7.jpg  negative   0.874    0.874    0.126\n",
       "8   negative/7896.jpg  negative   0.984    0.984    0.016\n",
       "9   negative/3019.jpg  negative   0.930     0.93     0.07"
      ]
     },
     "execution_count": 64,
     "metadata": {},
     "output_type": "execute_result"
    }
   ],
   "source": [
    "output_data"
   ]
  },
  {
   "cell_type": "code",
   "execution_count": 1,
   "metadata": {
    "collapsed": false
   },
   "outputs": [
    {
     "ename": "NameError",
     "evalue": "name 'output_data' is not defined",
     "output_type": "error",
     "traceback": [
      "\u001b[0;31m---------------------------------------------------------------------------\u001b[0m",
      "\u001b[0;31mNameError\u001b[0m                                 Traceback (most recent call last)",
      "\u001b[0;32m<ipython-input-1-089aadaade13>\u001b[0m in \u001b[0;36m<module>\u001b[0;34m()\u001b[0m\n\u001b[0;32m----> 1\u001b[0;31m \u001b[0moutput_data\u001b[0m\u001b[0;34m\u001b[0m\u001b[0m\n\u001b[0m",
      "\u001b[0;31mNameError\u001b[0m: name 'output_data' is not defined"
     ]
    }
   ],
   "source": [
    "output_data"
   ]
  },
  {
   "cell_type": "code",
   "execution_count": null,
   "metadata": {
    "collapsed": true
   },
   "outputs": [],
   "source": []
  }
 ],
 "metadata": {
  "anaconda-cloud": {},
  "kernelspec": {
   "display_name": "Python 3",
   "language": "python",
   "name": "python3"
  },
  "language_info": {
   "codemirror_mode": {
    "name": "ipython",
    "version": 3
   },
   "file_extension": ".py",
   "mimetype": "text/x-python",
   "name": "python",
   "nbconvert_exporter": "python",
   "pygments_lexer": "ipython3",
   "version": "3.6.0"
  }
 },
 "nbformat": 4,
 "nbformat_minor": 2
}
